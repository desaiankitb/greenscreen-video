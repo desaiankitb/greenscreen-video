{
 "cells": [
  {
   "cell_type": "code",
   "execution_count": 1,
   "metadata": {},
   "outputs": [
    {
     "name": "stdout",
     "output_type": "stream",
     "text": [
      "Moviepy - Building video output_video.mp4.\n",
      "Moviepy - Writing video output_video.mp4\n",
      "\n"
     ]
    },
    {
     "name": "stderr",
     "output_type": "stream",
     "text": [
      "                                                              \r"
     ]
    },
    {
     "name": "stdout",
     "output_type": "stream",
     "text": [
      "Moviepy - Done !\n",
      "Moviepy - video ready output_video.mp4\n"
     ]
    }
   ],
   "source": [
    "import cv2\n",
    "import numpy as np\n",
    "from moviepy.editor import VideoFileClip, ImageClip, CompositeVideoClip\n",
    "\n",
    "def chroma_key(frame, background_image, lower_bound, upper_bound):\n",
    "    # Convert the frame to HSV color space\n",
    "    hsv_frame = cv2.cvtColor(frame, cv2.COLOR_BGR2HSV)\n",
    "\n",
    "    # Create a mask for the green screen\n",
    "    mask = cv2.inRange(hsv_frame, lower_bound, upper_bound)\n",
    "\n",
    "    # Erode and dilate to remove noise\n",
    "    mask = cv2.erode(mask, None, iterations=2)\n",
    "    mask = cv2.dilate(mask, None, iterations=2)\n",
    "\n",
    "    # Invert mask\n",
    "    mask_inv = cv2.bitwise_not(mask)\n",
    "\n",
    "    # Use the mask to extract the relevant parts from the background and the frame\n",
    "    fg = cv2.bitwise_and(frame, frame, mask=mask_inv)\n",
    "    bg = cv2.bitwise_and(background_image, background_image, mask=mask)\n",
    "\n",
    "    # Combine the foreground and background\n",
    "    combined = cv2.add(fg, bg)\n",
    "\n",
    "    return combined\n",
    "\n",
    "def process_video(video_path, background_path, output_path):\n",
    "    # Load the background image\n",
    "    background_image = cv2.imread(background_path)\n",
    "    background_image = cv2.cvtColor(background_image, cv2.COLOR_BGR2RGB)\n",
    "\n",
    "    # Define the range for green color\n",
    "    lower_green = np.array([40, 40, 40])\n",
    "    upper_green = np.array([70, 255, 255])\n",
    "\n",
    "    # Load the video\n",
    "    clip = VideoFileClip(video_path)\n",
    "\n",
    "    # Resize background to match video frame size\n",
    "    background_image = cv2.resize(background_image, (clip.size[0], clip.size[1]))\n",
    "\n",
    "    # Process each frame\n",
    "    processed_clip = clip.fl_image(lambda frame: chroma_key(frame, background_image, lower_green, upper_green))\n",
    "\n",
    "    # Write the output video file\n",
    "    processed_clip.write_videofile(output_path, codec='libx264', audio_codec='aac')\n",
    "\n",
    "if __name__ == \"__main__\":\n",
    "    process_video('/Users/ankitdesai/Downloads/shutterstock_1069180552.mp4', '/Users/ankitdesai/Downloads/background.jpg', 'output_video.mp4')\n"
   ]
  }
 ],
 "metadata": {
  "kernelspec": {
   "display_name": "venv",
   "language": "python",
   "name": "python3"
  },
  "language_info": {
   "codemirror_mode": {
    "name": "ipython",
    "version": 3
   },
   "file_extension": ".py",
   "mimetype": "text/x-python",
   "name": "python",
   "nbconvert_exporter": "python",
   "pygments_lexer": "ipython3",
   "version": "3.10.9"
  }
 },
 "nbformat": 4,
 "nbformat_minor": 2
}
